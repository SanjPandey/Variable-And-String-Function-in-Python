{
 "cells": [
  {
   "cell_type": "code",
   "execution_count": 59,
   "id": "2ec303e4",
   "metadata": {},
   "outputs": [],
   "source": [
    "a=\"I am sanj\"\n",
    "b=124"
   ]
  },
  {
   "cell_type": "code",
   "execution_count": 62,
   "id": "f41cfce1",
   "metadata": {},
   "outputs": [
    {
     "data": {
      "text/plain": [
       "int"
      ]
     },
     "execution_count": 62,
     "metadata": {},
     "output_type": "execute_result"
    }
   ],
   "source": [
    "type(a) #string\n",
    "type(b) #int"
   ]
  },
  {
   "cell_type": "code",
   "execution_count": 55,
   "id": "3e9a1526",
   "metadata": {},
   "outputs": [],
   "source": [
    "a=\" I Am Happy\""
   ]
  },
  {
   "cell_type": "code",
   "execution_count": 56,
   "id": "25044bce",
   "metadata": {},
   "outputs": [
    {
     "data": {
      "text/plain": [
       "' I AM HAPPY'"
      ]
     },
     "execution_count": 56,
     "metadata": {},
     "output_type": "execute_result"
    }
   ],
   "source": [
    "a.upper()"
   ]
  },
  {
   "cell_type": "code",
   "execution_count": 57,
   "id": "a625f5fb",
   "metadata": {},
   "outputs": [
    {
     "data": {
      "text/plain": [
       "' i am happy'"
      ]
     },
     "execution_count": 57,
     "metadata": {},
     "output_type": "execute_result"
    }
   ],
   "source": [
    "a.lower()"
   ]
  },
  {
   "cell_type": "markdown",
   "id": "c5641941",
   "metadata": {},
   "source": [
    "# its return the capital letter to small letter,and small letter in to capital letter"
   ]
  },
  {
   "cell_type": "code",
   "execution_count": 58,
   "id": "2e02417f",
   "metadata": {},
   "outputs": [
    {
     "data": {
      "text/plain": [
       "' i aM hAPPY'"
      ]
     },
     "execution_count": 58,
     "metadata": {},
     "output_type": "execute_result"
    }
   ],
   "source": [
    "a.swapcase() "
   ]
  },
  {
   "cell_type": "code",
   "execution_count": 3,
   "id": "61673092",
   "metadata": {},
   "outputs": [
    {
     "data": {
      "text/plain": [
       "True"
      ]
     },
     "execution_count": 3,
     "metadata": {},
     "output_type": "execute_result"
    }
   ],
   "source": [
    "isinstance(a,str)"
   ]
  },
  {
   "cell_type": "markdown",
   "id": "ebfa80d2",
   "metadata": {},
   "source": [
    "# isinstance return true or false value..like given input is integer or string "
   ]
  },
  {
   "cell_type": "code",
   "execution_count": 11,
   "id": "4cde69a5",
   "metadata": {},
   "outputs": [
    {
     "data": {
      "text/plain": [
       "False"
      ]
     },
     "execution_count": 11,
     "metadata": {},
     "output_type": "execute_result"
    }
   ],
   "source": [
    "isinstance(b,str)"
   ]
  },
  {
   "cell_type": "code",
   "execution_count": 13,
   "id": "41c7ee97",
   "metadata": {},
   "outputs": [
    {
     "data": {
      "text/plain": [
       "True"
      ]
     },
     "execution_count": 13,
     "metadata": {},
     "output_type": "execute_result"
    }
   ],
   "source": [
    "isinstance(b,int)"
   ]
  },
  {
   "cell_type": "markdown",
   "id": "f2f8463a",
   "metadata": {},
   "source": [
    "# len function to find the length of string"
   ]
  },
  {
   "cell_type": "code",
   "execution_count": 15,
   "id": "3326053d",
   "metadata": {},
   "outputs": [
    {
     "data": {
      "text/plain": [
       "9"
      ]
     },
     "execution_count": 15,
     "metadata": {},
     "output_type": "execute_result"
    }
   ],
   "source": [
    "len(a)"
   ]
  },
  {
   "cell_type": "code",
   "execution_count": 23,
   "id": "37477c84",
   "metadata": {},
   "outputs": [],
   "source": [
    "a=\"hello\"\n",
    "b=122\n"
   ]
  },
  {
   "cell_type": "markdown",
   "id": "6614acfa",
   "metadata": {},
   "source": [
    "# isdigit function to check the given input is number or not. return true and false"
   ]
  },
  {
   "cell_type": "code",
   "execution_count": 17,
   "id": "d78bfd0b",
   "metadata": {},
   "outputs": [
    {
     "data": {
      "text/plain": [
       "False"
      ]
     },
     "execution_count": 17,
     "metadata": {},
     "output_type": "execute_result"
    }
   ],
   "source": [
    "a.isdigit()"
   ]
  },
  {
   "cell_type": "code",
   "execution_count": 30,
   "id": "c125bb2a",
   "metadata": {},
   "outputs": [
    {
     "data": {
      "text/plain": [
       "True"
      ]
     },
     "execution_count": 30,
     "metadata": {},
     "output_type": "execute_result"
    }
   ],
   "source": [
    "b=\"sanj11\"\n",
    "b.isalnum()"
   ]
  },
  {
   "cell_type": "markdown",
   "id": "c7027d5a",
   "metadata": {},
   "source": [
    "# startswith,endswith,replace,count"
   ]
  },
  {
   "cell_type": "code",
   "execution_count": 31,
   "id": "16c3e2fc",
   "metadata": {},
   "outputs": [],
   "source": [
    "a=\"siyaram\""
   ]
  },
  {
   "cell_type": "code",
   "execution_count": 35,
   "id": "1cd47d92",
   "metadata": {},
   "outputs": [
    {
     "name": "stdout",
     "output_type": "stream",
     "text": [
      "True\n"
     ]
    }
   ],
   "source": [
    "print(a.startswith(\"s\"))\n"
   ]
  },
  {
   "cell_type": "code",
   "execution_count": 36,
   "id": "d0572d52",
   "metadata": {},
   "outputs": [
    {
     "name": "stdout",
     "output_type": "stream",
     "text": [
      "siyara$\n"
     ]
    }
   ],
   "source": [
    "print(a.replace(\"m\",\"$\"))"
   ]
  },
  {
   "cell_type": "code",
   "execution_count": 38,
   "id": "eb6a6a34",
   "metadata": {},
   "outputs": [
    {
     "name": "stdout",
     "output_type": "stream",
     "text": [
      "siy#ram\n"
     ]
    }
   ],
   "source": [
    "print(a.replace(\"a\",\"#\",1))"
   ]
  },
  {
   "cell_type": "markdown",
   "id": "aa285624",
   "metadata": {},
   "source": [
    "# welcome in india Remove the space between the line\n",
    "a=\"welcome in india\""
   ]
  },
  {
   "cell_type": "code",
   "execution_count": 41,
   "id": "1636ac1a",
   "metadata": {},
   "outputs": [],
   "source": [
    "b=a.replace(\" \",\"\")"
   ]
  },
  {
   "cell_type": "code",
   "execution_count": 42,
   "id": "059dd730",
   "metadata": {},
   "outputs": [
    {
     "name": "stdout",
     "output_type": "stream",
     "text": [
      "welcomeinindia\n"
     ]
    }
   ],
   "source": [
    "print(b)"
   ]
  },
  {
   "cell_type": "markdown",
   "id": "0540bdd4",
   "metadata": {},
   "source": [
    "# get the input from user and check it isalphabet or not"
   ]
  },
  {
   "cell_type": "code",
   "execution_count": 49,
   "id": "ca99e80c",
   "metadata": {},
   "outputs": [
    {
     "name": "stdout",
     "output_type": "stream",
     "text": [
      "enter a stringwelcome\n",
      "welcome alphabet welcome\n"
     ]
    }
   ],
   "source": [
    "a=input(\"enter a string\").lower()\n",
    "\n",
    "if a.isalpha():\n",
    "    print(f\"{a} alphabet\",a)\n",
    "     "
   ]
  },
  {
   "cell_type": "code",
   "execution_count": null,
   "id": "16650daa",
   "metadata": {},
   "outputs": [],
   "source": []
  }
 ],
 "metadata": {
  "kernelspec": {
   "display_name": "Python 3 (ipykernel)",
   "language": "python",
   "name": "python3"
  },
  "language_info": {
   "codemirror_mode": {
    "name": "ipython",
    "version": 3
   },
   "file_extension": ".py",
   "mimetype": "text/x-python",
   "name": "python",
   "nbconvert_exporter": "python",
   "pygments_lexer": "ipython3",
   "version": "3.11.5"
  }
 },
 "nbformat": 4,
 "nbformat_minor": 5
}
